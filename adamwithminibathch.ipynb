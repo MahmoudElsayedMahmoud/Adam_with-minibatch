{
 "cells": [
  {
   "cell_type": "markdown",
   "id": "32b92576",
   "metadata": {
    "id": "32b92576"
   },
   "source": [
    "<b>In this practical exam you are required to do the following:</b><b>\n",
    "1. Implement the Adam (Batch Version) algorithm to train a multivariable linear regression model.\n",
    "2. Update your implementation to work for mini-batch.\n",
    "</b>\n",
    "\n",
    "### Please fulfil the following requirements:\n",
    "<br>\n",
    "<b>\n",
    "    \n",
    "    1. Each implementation must be in a sepearate function. i.e. two separate functions.\n",
    "    2. Check each function on the data in the attached file.\n",
    "    3. You must obtain r2-score > 0.9 using each functiion.\n",
    "    4. You must plot the following curves.\n",
    "        - Loss vs. iterations.\n",
    "        - Loss vs. each parameter (i.e. loss vs theta 0, loss vs. theta 1 .... etc.).\n",
    "    5. Choose hyper parameters to obtain the required accuracy.\n",
    "    6. The implementation must be vectoried and calculations must be performed as matrix vector multiplications.\n",
    "    7. Apply the stop conditions (gradient < 0.001 and cost convergence check).                                            \n",
    "</b>\n",
    "    \n",
    "<b><i>Note: You are allowed to use the code you developed during practical sessions. However, it should be your own code.</i></b>"
   ]
  },
  {
   "cell_type": "markdown",
   "id": "db57d373",
   "metadata": {
    "id": "db57d373"
   },
   "source": [
    "## Best of Luck..."
   ]
  },
  {
   "cell_type": "code",
   "execution_count": 1,
   "id": "0cbf0144",
   "metadata": {
    "id": "0cbf0144"
   },
   "outputs": [],
   "source": [
    "import numpy as np\n",
    "import pandas as pd\n",
    "import matplotlib.pyplot as plt"
   ]
  },
  {
   "cell_type": "code",
   "execution_count": 2,
   "id": "2a9b024f",
   "metadata": {},
   "outputs": [],
   "source": [
    "df = pd.read_csv('MultipleLR.csv - MultipleLR.csv.csv',header=None)"
   ]
  },
  {
   "cell_type": "code",
   "execution_count": 3,
   "id": "6a1375c8",
   "metadata": {},
   "outputs": [],
   "source": [
    "X = df.iloc[:,:-1]\n",
    "\n",
    "y = df.iloc[:,-1]"
   ]
  },
  {
   "cell_type": "code",
   "execution_count": 4,
   "id": "9f9cbf66",
   "metadata": {},
   "outputs": [
    {
     "data": {
      "text/plain": [
       "(25, 3)"
      ]
     },
     "execution_count": 4,
     "metadata": {},
     "output_type": "execute_result"
    }
   ],
   "source": [
    "X.shape"
   ]
  },
  {
   "cell_type": "code",
   "execution_count": 5,
   "id": "f10234f6",
   "metadata": {},
   "outputs": [
    {
     "data": {
      "text/plain": [
       "(25,)"
      ]
     },
     "execution_count": 5,
     "metadata": {},
     "output_type": "execute_result"
    }
   ],
   "source": [
    "y.shape"
   ]
  },
  {
   "cell_type": "code",
   "execution_count": 6,
   "id": "919c4a24",
   "metadata": {},
   "outputs": [],
   "source": [
    "m = len(y)"
   ]
  },
  {
   "cell_type": "markdown",
   "id": "86fdef7d",
   "metadata": {},
   "source": [
    "# Task 1 "
   ]
  },
  {
   "cell_type": "code",
   "execution_count": 7,
   "id": "9b6fcf5f",
   "metadata": {},
   "outputs": [],
   "source": [
    "def compute_cost(X, y, theta, b1):\n",
    "    #print(theta.shape, X.shape, b1)\n",
    "    predictions = X.dot(theta) + b1\n",
    "    errors = np.subtract(predictions, y)\n",
    "    sqrErrors = np.square(errors)\n",
    "    J = 1/(2 * m) * errors.T.dot(errors)\n",
    "    return J"
   ]
  },
  {
   "cell_type": "code",
   "execution_count": 8,
   "id": "b122c242",
   "metadata": {},
   "outputs": [],
   "source": [
    "\n",
    "def gradient_descent_adam(X, y, theta, alpha, iterations,b1):\n",
    "    cost_history = np.zeros(iterations)\n",
    "    theta_history= []\n",
    "    t = 0  \n",
    "    v =  np.zeros(X.shape[1])\n",
    "    s =  np.zeros(X.shape[1])\n",
    "    \n",
    "    beta1 = 0.9\n",
    "    beta2 = 0.999\n",
    "    epsilon = 1e-8\n",
    "    \n",
    "    for i in range(iterations):\n",
    "        predictions = X.dot(theta) +b1\n",
    "        errors = np.subtract(predictions, y) \n",
    "        sum_delta = (alpha / m) * X.transpose().dot(errors);\n",
    "        t = t + 1\n",
    "        \n",
    "        v = beta1*v + (1 - beta1)*sum_delta\n",
    "        v_corrected = v/(1 - beta1**t)\n",
    "        \n",
    "        \n",
    "        s = beta2*s + (1 - beta2)*np.square(sum_delta)\n",
    "        s_corrected = s/(1 - beta2**t)\n",
    "        \n",
    "        theta = theta - alpha*v_corrected/(np.sqrt(s_corrected)+epsilon)\n",
    "        \n",
    "        #theta = theta - sum_delta;\n",
    "        bias_gradient = np.sum(errors) / m\n",
    "        b1 = b1 - alpha * bias_gradient;\n",
    "\n",
    "            \n",
    "            \n",
    "        cost_history[i] = compute_cost(X, y, theta,b1)  \n",
    "        theta_history.append(theta)\n",
    "        #print(\"in function:\", cost_history[i])\n",
    "    return theta, cost_history,b1,theta_history"
   ]
  },
  {
   "cell_type": "code",
   "execution_count": 178,
   "id": "a4576a35",
   "metadata": {},
   "outputs": [],
   "source": [
    "np.random.seed(42)\n",
    "import random\n"
   ]
  },
  {
   "cell_type": "code",
   "execution_count": 324,
   "id": "f5077ac0",
   "metadata": {},
   "outputs": [],
   "source": [
    "theta =np.zeros(X.shape[1]) #np.random.random(3)*3.5 #np. random.randint(3, size=(X.shape[1]))\n",
    " #np.random.normal(3, 1, size=(X.shape[1])) #np.random.rand(X.shape[1]) # # #\n",
    "iterations = 1000;\n",
    "alpha = 0.15;\n",
    "b1 = 0"
   ]
  },
  {
   "cell_type": "code",
   "execution_count": 325,
   "id": "bb380532",
   "metadata": {},
   "outputs": [
    {
     "data": {
      "text/plain": [
       "array([0., 0., 0.])"
      ]
     },
     "execution_count": 325,
     "metadata": {},
     "output_type": "execute_result"
    }
   ],
   "source": [
    "theta"
   ]
  },
  {
   "cell_type": "code",
   "execution_count": 326,
   "id": "a145cdc4",
   "metadata": {},
   "outputs": [],
   "source": [
    "theta, cost_history,b1,theta_history = gradient_descent_adam(X, y, theta, alpha,iterations,b1)"
   ]
  },
  {
   "cell_type": "code",
   "execution_count": 327,
   "id": "5d8fb7e5",
   "metadata": {},
   "outputs": [
    {
     "data": {
      "text/plain": [
       "3"
      ]
     },
     "execution_count": 327,
     "metadata": {},
     "output_type": "execute_result"
    }
   ],
   "source": [
    "len(theta_history[0])"
   ]
  },
  {
   "cell_type": "code",
   "execution_count": 328,
   "id": "d09b9927",
   "metadata": {},
   "outputs": [],
   "source": [
    "theta_history_pd = pd.DataFrame(theta_history)"
   ]
  },
  {
   "cell_type": "code",
   "execution_count": 329,
   "id": "43fbc941",
   "metadata": {},
   "outputs": [
    {
     "data": {
      "text/html": [
       "<div>\n",
       "<style scoped>\n",
       "    .dataframe tbody tr th:only-of-type {\n",
       "        vertical-align: middle;\n",
       "    }\n",
       "\n",
       "    .dataframe tbody tr th {\n",
       "        vertical-align: top;\n",
       "    }\n",
       "\n",
       "    .dataframe thead th {\n",
       "        text-align: right;\n",
       "    }\n",
       "</style>\n",
       "<table border=\"1\" class=\"dataframe\">\n",
       "  <thead>\n",
       "    <tr style=\"text-align: right;\">\n",
       "      <th></th>\n",
       "      <th>0</th>\n",
       "      <th>1</th>\n",
       "      <th>2</th>\n",
       "    </tr>\n",
       "  </thead>\n",
       "  <tbody>\n",
       "    <tr>\n",
       "      <th>0</th>\n",
       "      <td>0.150000</td>\n",
       "      <td>0.150000</td>\n",
       "      <td>0.150000</td>\n",
       "    </tr>\n",
       "    <tr>\n",
       "      <th>1</th>\n",
       "      <td>0.294572</td>\n",
       "      <td>0.294571</td>\n",
       "      <td>0.294574</td>\n",
       "    </tr>\n",
       "    <tr>\n",
       "      <th>2</th>\n",
       "      <td>0.427713</td>\n",
       "      <td>0.427709</td>\n",
       "      <td>0.427726</td>\n",
       "    </tr>\n",
       "    <tr>\n",
       "      <th>3</th>\n",
       "      <td>0.542241</td>\n",
       "      <td>0.542232</td>\n",
       "      <td>0.542285</td>\n",
       "    </tr>\n",
       "    <tr>\n",
       "      <th>4</th>\n",
       "      <td>0.632047</td>\n",
       "      <td>0.632028</td>\n",
       "      <td>0.632156</td>\n",
       "    </tr>\n",
       "    <tr>\n",
       "      <th>...</th>\n",
       "      <td>...</td>\n",
       "      <td>...</td>\n",
       "      <td>...</td>\n",
       "    </tr>\n",
       "    <tr>\n",
       "      <th>995</th>\n",
       "      <td>0.386760</td>\n",
       "      <td>0.527594</td>\n",
       "      <td>1.128972</td>\n",
       "    </tr>\n",
       "    <tr>\n",
       "      <th>996</th>\n",
       "      <td>0.386644</td>\n",
       "      <td>0.527634</td>\n",
       "      <td>1.129106</td>\n",
       "    </tr>\n",
       "    <tr>\n",
       "      <th>997</th>\n",
       "      <td>0.386529</td>\n",
       "      <td>0.527674</td>\n",
       "      <td>1.129238</td>\n",
       "    </tr>\n",
       "    <tr>\n",
       "      <th>998</th>\n",
       "      <td>0.386414</td>\n",
       "      <td>0.527714</td>\n",
       "      <td>1.129371</td>\n",
       "    </tr>\n",
       "    <tr>\n",
       "      <th>999</th>\n",
       "      <td>0.386299</td>\n",
       "      <td>0.527754</td>\n",
       "      <td>1.129503</td>\n",
       "    </tr>\n",
       "  </tbody>\n",
       "</table>\n",
       "<p>1000 rows × 3 columns</p>\n",
       "</div>"
      ],
      "text/plain": [
       "            0         1         2\n",
       "0    0.150000  0.150000  0.150000\n",
       "1    0.294572  0.294571  0.294574\n",
       "2    0.427713  0.427709  0.427726\n",
       "3    0.542241  0.542232  0.542285\n",
       "4    0.632047  0.632028  0.632156\n",
       "..        ...       ...       ...\n",
       "995  0.386760  0.527594  1.128972\n",
       "996  0.386644  0.527634  1.129106\n",
       "997  0.386529  0.527674  1.129238\n",
       "998  0.386414  0.527714  1.129371\n",
       "999  0.386299  0.527754  1.129503\n",
       "\n",
       "[1000 rows x 3 columns]"
      ]
     },
     "execution_count": 329,
     "metadata": {},
     "output_type": "execute_result"
    }
   ],
   "source": [
    "theta_history_pd"
   ]
  },
  {
   "cell_type": "code",
   "execution_count": 330,
   "id": "63e2f163",
   "metadata": {},
   "outputs": [
    {
     "data": {
      "text/plain": [
       "Text(0.5, 1.0, 'Convergence of gradient descent')"
      ]
     },
     "execution_count": 330,
     "metadata": {},
     "output_type": "execute_result"
    },
    {
     "data": {
      "image/png": "[encoded data removed]",
      "text/plain": [
       "<Figure size 720x432 with 1 Axes>"
      ]
     },
     "metadata": {
      "needs_background": "light"
     },
     "output_type": "display_data"
    }
   ],
   "source": [
    "import matplotlib.pyplot as plt\n",
    "plt.plot(range(1, iterations +1), cost_history, color ='blue')\n",
    "plt.rcParams[\"figure.figsize\"] = (10,6)\n",
    "plt.grid()\n",
    "plt.xlabel(\"Number of iterations\")\n",
    "plt.ylabel(\"cost (J)\")\n",
    "plt.title(\"Convergence of gradient descent\")"
   ]
  },
  {
   "cell_type": "code",
   "execution_count": 331,
   "id": "31ce8ca5",
   "metadata": {},
   "outputs": [
    {
     "data": {
      "text/plain": [
       "Text(0.5, 1.0, 'Convergence of gradient descent')"
      ]
     },
     "execution_count": 331,
     "metadata": {},
     "output_type": "execute_result"
    },
    {
     "data": {
      "image/png": "[encoded data removed]",
      "text/plain": [
       "<Figure size 720x432 with 1 Axes>"
      ]
     },
     "metadata": {
      "needs_background": "light"
     },
     "output_type": "display_data"
    }
   ],
   "source": [
    "import matplotlib.pyplot as plt\n",
    "plt.plot( theta_history_pd.iloc[:,0],cost_history, color ='blue')\n",
    "plt.rcParams[\"figure.figsize\"] = (10,6)\n",
    "plt.grid()\n",
    "plt.ylabel(\"cost (J)\")\n",
    "plt.xlabel(\"theta 0 \")\n",
    "plt.title(\"Convergence of gradient descent\")"
   ]
  },
  {
   "cell_type": "code",
   "execution_count": 332,
   "id": "c25a55a6",
   "metadata": {},
   "outputs": [
    {
     "data": {
      "text/plain": [
       "Text(0.5, 1.0, 'Convergence of gradient descent')"
      ]
     },
     "execution_count": 332,
     "metadata": {},
     "output_type": "execute_result"
    },
    {
     "data": {
      "image/png": "[encoded data removed]",
      "text/plain": [
       "<Figure size 720x432 with 1 Axes>"
      ]
     },
     "metadata": {
      "needs_background": "light"
     },
     "output_type": "display_data"
    }
   ],
   "source": [
    "import matplotlib.pyplot as plt\n",
    "plt.plot( theta_history_pd.iloc[:,1],cost_history, color ='blue')\n",
    "plt.rcParams[\"figure.figsize\"] = (10,6)\n",
    "plt.grid()\n",
    "plt.ylabel(\"cost (J)\")\n",
    "plt.xlabel(\"theta 0 \")\n",
    "plt.title(\"Convergence of gradient descent\")"
   ]
  },
  {
   "cell_type": "code",
   "execution_count": 333,
   "id": "463f4846",
   "metadata": {},
   "outputs": [
    {
     "data": {
      "text/plain": [
       "Text(0.5, 1.0, 'Convergence of gradient descent')"
      ]
     },
     "execution_count": 333,
     "metadata": {},
     "output_type": "execute_result"
    },
    {
     "data": {
      "image/png": "[encoded data removed]",
      "text/plain": [
       "<Figure size 720x432 with 1 Axes>"
      ]
     },
     "metadata": {
      "needs_background": "light"
     },
     "output_type": "display_data"
    }
   ],
   "source": [
    "import matplotlib.pyplot as plt\n",
    "plt.plot( theta_history_pd.iloc[:,2],cost_history, color ='blue')\n",
    "plt.rcParams[\"figure.figsize\"] = (10,6)\n",
    "plt.grid()\n",
    "plt.ylabel(\"cost (J)\")\n",
    "plt.xlabel(\"theta 0 \")\n",
    "plt.title(\"Convergence of gradient descent\")"
   ]
  },
  {
   "cell_type": "code",
   "execution_count": 334,
   "id": "cf92646f",
   "metadata": {},
   "outputs": [
    {
     "data": {
      "text/plain": [
       "0.9895028971813314"
      ]
     },
     "execution_count": 334,
     "metadata": {},
     "output_type": "execute_result"
    }
   ],
   "source": [
    "from sklearn.metrics import r2_score\n",
    "predictions = X.dot(theta) +b1\n",
    "r2_score(y,predictions)"
   ]
  },
  {
   "cell_type": "code",
   "execution_count": 335,
   "id": "8f7f325b",
   "metadata": {},
   "outputs": [],
   "source": [
    "min_index = cost_history.argmin()"
   ]
  },
  {
   "cell_type": "code",
   "execution_count": 336,
   "id": "5888a475",
   "metadata": {},
   "outputs": [
    {
     "data": {
      "text/plain": [
       "999"
      ]
     },
     "execution_count": 336,
     "metadata": {},
     "output_type": "execute_result"
    }
   ],
   "source": [
    "min_index"
   ]
  },
  {
   "cell_type": "code",
   "execution_count": 337,
   "id": "30f2f9bc",
   "metadata": {},
   "outputs": [
    {
     "data": {
      "text/plain": [
       "2.9129376344982627"
      ]
     },
     "execution_count": 337,
     "metadata": {},
     "output_type": "execute_result"
    }
   ],
   "source": [
    "cost_history[min_index]"
   ]
  },
  {
   "cell_type": "code",
   "execution_count": 338,
   "id": "91ed35fb",
   "metadata": {},
   "outputs": [],
   "source": [
    "min_theta= theta_history_pd.iloc[min_index,:]"
   ]
  },
  {
   "cell_type": "code",
   "execution_count": 339,
   "id": "5f87ebfa",
   "metadata": {},
   "outputs": [
    {
     "data": {
      "text/plain": [
       "0    0.386299\n",
       "1    0.527754\n",
       "2    1.129503\n",
       "Name: 999, dtype: float64"
      ]
     },
     "execution_count": 339,
     "metadata": {},
     "output_type": "execute_result"
    }
   ],
   "source": [
    "min_theta"
   ]
  },
  {
   "cell_type": "code",
   "execution_count": 340,
   "id": "0abf973d",
   "metadata": {},
   "outputs": [
    {
     "data": {
      "text/plain": [
       "0.9895028971813314"
      ]
     },
     "execution_count": 340,
     "metadata": {},
     "output_type": "execute_result"
    }
   ],
   "source": [
    "from sklearn.metrics import r2_score\n",
    "predictions = X.dot(min_theta) +b1\n",
    "r2_score(y,predictions)"
   ]
  },
  {
   "cell_type": "markdown",
   "id": "05762a9f",
   "metadata": {},
   "source": [
    "# Task 2"
   ]
  },
  {
   "cell_type": "code",
   "execution_count": 116,
   "id": "c632de6d",
   "metadata": {},
   "outputs": [],
   "source": [
    "\n",
    "import math\n",
    "def random_mini_batches(X, Y, mini_batch_size = 64):\n",
    "\n",
    "    \n",
    "    m = X.shape[1]                  \n",
    "    mini_batches = []\n",
    "        \n",
    "    permutation = list(np.random.permutation(m))\n",
    "    shuffled_X = X[:, permutation]\n",
    "    shuffled_Y = Y[:, permutation].reshape((1,m))\n",
    "\n",
    "    num_complete_minibatches = math.floor(m/mini_batch_size)\n",
    "    for k in range(0, num_complete_minibatches):\n",
    "        mini_batch_X = shuffled_X[:, k*mini_batch_size : (k+1)*mini_batch_size]\n",
    "        mini_batch_Y = shuffled_Y[:, k*mini_batch_size : (k+1)*mini_batch_size]\n",
    "        mini_batch = (mini_batch_X, mini_batch_Y)\n",
    "        mini_batches.append(mini_batch)\n",
    "    \n",
    "    if m % mini_batch_size != 0:\n",
    "        mini_batch_X = shuffled_X[:, int(m/mini_batch_size)*mini_batch_size : ]\n",
    "        mini_batch_Y = shuffled_Y[:, int(m/mini_batch_size)*mini_batch_size : ]\n",
    "        mini_batch = (mini_batch_X, mini_batch_Y)\n",
    "        mini_batches.append(mini_batch)\n",
    "    \n",
    "    return mini_batches"
   ]
  },
  {
   "cell_type": "code",
   "execution_count": null,
   "id": "cb3f8cff",
   "metadata": {},
   "outputs": [],
   "source": []
  },
  {
   "cell_type": "code",
   "execution_count": 117,
   "id": "6d4f218b",
   "metadata": {},
   "outputs": [],
   "source": [
    "\n",
    "def gradient_descent_adam_mini(minibatches, theta, alpha, iterations,b1):\n",
    "    cost_history = np.zeros(iterations)\n",
    "    theta_history= []\n",
    "    t = 0  \n",
    "    v =  np.zeros(minibatches[0][0].shape[0])\n",
    "    s =  np.zeros(minibatches[0][0].shape[0])\n",
    "    \n",
    "    beta1 = 0.9\n",
    "    beta2 = 0.999\n",
    "    epsilon = 1e-8\n",
    "    \n",
    "    for i in range(iterations):\n",
    "        for minibatch in minibatches:\n",
    "            \n",
    "            (X, y) = minibatch\n",
    "            \n",
    "            X= X.T\n",
    "            y= y.reshape(-1)\n",
    "            \n",
    "            predictions = X.dot(theta) +b1\n",
    "            errors = np.subtract(predictions, y) \n",
    "            sum_delta = (alpha / m) * X.transpose().dot(errors);\n",
    "            t = t + 1\n",
    "\n",
    "            v = beta1*v + (1 - beta1)*sum_delta\n",
    "            v_corrected = v/(1 - beta1**t)\n",
    "\n",
    "\n",
    "            s = beta2*s + (1 - beta2)*np.square(sum_delta)\n",
    "            s_corrected = s/(1 - beta2**t)\n",
    "\n",
    "            theta = theta - alpha*v_corrected/(np.sqrt(s_corrected)+epsilon)\n",
    "\n",
    "            #theta = theta - sum_delta;\n",
    "            bias_gradient = np.sum(errors) / len(y)\n",
    "            b1 = b1 - alpha * bias_gradient;\n",
    "\n",
    "            \n",
    "            \n",
    "        cost_history[i] = compute_cost(X, y, theta,b1)  \n",
    "        theta_history.append(theta)\n",
    "        #print(\"in function:\", cost_history[i])\n",
    "    return theta, cost_history,b1,theta_history"
   ]
  },
  {
   "cell_type": "code",
   "execution_count": 341,
   "id": "21118eed",
   "metadata": {},
   "outputs": [],
   "source": [
    "theta = np.zeros(X.shape[1]) #np.random.normal(3, 1, size=(X.shape[1]))\n",
    "iterations = 1000;\n",
    "alpha = 0.15;\n",
    "b1 = 0\n",
    "minibatches = random_mini_batches(X.values.T,  y.values.reshape(1,-1), 64)\n",
    "theta, cost_history,b1,theta_history = gradient_descent_adam_mini(minibatches, theta, alpha,iterations,b1)"
   ]
  },
  {
   "cell_type": "code",
   "execution_count": 348,
   "id": "74cc5eff",
   "metadata": {},
   "outputs": [
    {
     "data": {
      "text/plain": [
       "array([0.38629872, 0.52775416, 1.12950256])"
      ]
     },
     "execution_count": 348,
     "metadata": {},
     "output_type": "execute_result"
    }
   ],
   "source": [
    "theta"
   ]
  },
  {
   "cell_type": "code",
   "execution_count": 342,
   "id": "7213e9fe",
   "metadata": {},
   "outputs": [
    {
     "data": {
      "text/plain": [
       "Text(0.5, 1.0, 'Convergence of gradient descent')"
      ]
     },
     "execution_count": 342,
     "metadata": {},
     "output_type": "execute_result"
    },
    {
     "data": {
      "image/png": "[encoded data removed]",
      "text/plain": [
       "<Figure size 720x432 with 1 Axes>"
      ]
     },
     "metadata": {
      "needs_background": "light"
     },
     "output_type": "display_data"
    }
   ],
   "source": [
    "import matplotlib.pyplot as plt\n",
    "plt.plot(range(1, iterations +1), cost_history, color ='blue')\n",
    "plt.rcParams[\"figure.figsize\"] = (10,6)\n",
    "plt.grid()\n",
    "plt.xlabel(\"Number of iterations\")\n",
    "plt.ylabel(\"cost (J)\")\n",
    "plt.title(\"Convergence of gradient descent\")"
   ]
  },
  {
   "cell_type": "code",
   "execution_count": 343,
   "id": "c952c4bc",
   "metadata": {},
   "outputs": [
    {
     "data": {
      "text/plain": [
       "0.9895028971813314"
      ]
     },
     "execution_count": 343,
     "metadata": {},
     "output_type": "execute_result"
    }
   ],
   "source": [
    "from sklearn.metrics import r2_score\n",
    "predictions = X.dot(theta) +b1\n",
    "r2_score(y,predictions)"
   ]
  },
  {
   "cell_type": "code",
   "execution_count": 344,
   "id": "4093fd21",
   "metadata": {},
   "outputs": [],
   "source": [
    "theta_history_pd = pd.DataFrame(theta_history)"
   ]
  },
  {
   "cell_type": "code",
   "execution_count": 345,
   "id": "c4b3d316",
   "metadata": {},
   "outputs": [
    {
     "data": {
      "text/plain": [
       "Text(0.5, 1.0, 'Convergence of gradient descent')"
      ]
     },
     "execution_count": 345,
     "metadata": {},
     "output_type": "execute_result"
    },
    {
     "data": {
      "image/png": "[encoded data removed]",
      "text/plain": [
       "<Figure size 720x432 with 1 Axes>"
      ]
     },
     "metadata": {
      "needs_background": "light"
     },
     "output_type": "display_data"
    }
   ],
   "source": [
    "import matplotlib.pyplot as plt\n",
    "plt.plot( theta_history_pd.iloc[:,0],cost_history, color ='blue')\n",
    "plt.rcParams[\"figure.figsize\"] = (10,6)\n",
    "plt.grid()\n",
    "plt.ylabel(\"cost (J)\")\n",
    "plt.xlabel(\"theta 0 \")\n",
    "plt.title(\"Convergence of gradient descent\")"
   ]
  },
  {
   "cell_type": "code",
   "execution_count": 346,
   "id": "7c66fb90",
   "metadata": {},
   "outputs": [
    {
     "data": {
      "text/plain": [
       "Text(0.5, 1.0, 'Convergence of gradient descent')"
      ]
     },
     "execution_count": 346,
     "metadata": {},
     "output_type": "execute_result"
    },
    {
     "data": {
      "image/png": "[encoded data removed]",
      "text/plain": [
       "<Figure size 720x432 with 1 Axes>"
      ]
     },
     "metadata": {
      "needs_background": "light"
     },
     "output_type": "display_data"
    }
   ],
   "source": [
    "import matplotlib.pyplot as plt\n",
    "plt.plot( theta_history_pd.iloc[:,1],cost_history, color ='blue')\n",
    "plt.rcParams[\"figure.figsize\"] = (10,6)\n",
    "plt.grid()\n",
    "plt.ylabel(\"cost (J)\")\n",
    "plt.xlabel(\"theta 0 \")\n",
    "plt.title(\"Convergence of gradient descent\")"
   ]
  },
  {
   "cell_type": "code",
   "execution_count": 347,
   "id": "9aa92ecd",
   "metadata": {},
   "outputs": [
    {
     "data": {
      "text/plain": [
       "Text(0.5, 1.0, 'Convergence of gradient descent')"
      ]
     },
     "execution_count": 347,
     "metadata": {},
     "output_type": "execute_result"
    },
    {
     "data": {
      "image/png": "[encoded data removed]",
      "text/plain": [
       "<Figure size 720x432 with 1 Axes>"
      ]
     },
     "metadata": {
      "needs_background": "light"
     },
     "output_type": "display_data"
    }
   ],
   "source": [
    "import matplotlib.pyplot as plt\n",
    "plt.plot( theta_history_pd.iloc[:,2],cost_history, color ='blue')\n",
    "plt.rcParams[\"figure.figsize\"] = (10,6)\n",
    "plt.grid()\n",
    "plt.ylabel(\"cost (J)\")\n",
    "plt.xlabel(\"theta 0 \")\n",
    "plt.title(\"Convergence of gradient descent\")"
   ]
  },
  {
   "cell_type": "code",
   "execution_count": null,
   "id": "4623f59e",
   "metadata": {},
   "outputs": [],
   "source": []
  },
  {
   "cell_type": "code",
   "execution_count": null,
   "id": "59d1b155",
   "metadata": {},
   "outputs": [],
   "source": []
  }
 ],
 "metadata": {
  "colab": {
   "name": "NOFML&DS Final Practical Exam.ipynb",
   "provenance": []
  },
  "kernelspec": {
   "display_name": "Python 3 (ipykernel)",
   "language": "python",
   "name": "python3"
  },
  "language_info": {
   "codemirror_mode": {
    "name": "ipython",
    "version": 3
   },
   "file_extension": ".py",
   "mimetype": "text/x-python",
   "name": "python",
   "nbconvert_exporter": "python",
   "pygments_lexer": "ipython3",
   "version": "3.9.7"
  }
 },
 "nbformat": 4,
 "nbformat_minor": 5
}
